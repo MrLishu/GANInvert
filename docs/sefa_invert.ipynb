{
  "nbformat": 4,
  "nbformat_minor": 0,
  "metadata": {
    "language_info": {
      "codemirror_mode": {
        "name": "ipython",
        "version": 3
      },
      "file_extension": ".py",
      "mimetype": "text/x-python",
      "name": "python",
      "nbconvert_exporter": "python",
      "pygments_lexer": "ipython3",
      "version": "3.9.2"
    },
    "orig_nbformat": 4,
    "kernelspec": {
      "name": "python3",
      "display_name": "Python 3.9.2 64-bit"
    },
    "interpreter": {
      "hash": "f3aa6331c07ee25bacc791f93f707d5a9245b8fc1ed968ce9ad3ec4728621a3f"
    },
    "colab": {
      "name": "sefa_invert.ipynb",
      "provenance": []
    },
    "accelerator": "GPU"
  },
  "cells": [
    {
      "cell_type": "markdown",
      "metadata": {
        "id": "pa759a7rWVio"
      },
      "source": [
        "# SeFa Implementation"
      ]
    },
    {
      "cell_type": "markdown",
      "metadata": {
        "id": "dY94zdXsWVip"
      },
      "source": [
        "## Fetch Codebase and Models"
      ]
    },
    {
      "source": [
        "Clone the project from GitHub"
      ],
      "cell_type": "markdown",
      "metadata": {}
    },
    {
      "cell_type": "code",
      "metadata": {
        "id": "XWLCe6JPWViq",
        "outputId": "1c458746-5da9-460d-827a-6566014a77d1",
        "colab": {
          "base_uri": "https://localhost:8080/"
        }
      },
      "source": [
        "import os\n",
        "import sys\n",
        "\n",
        "if os.path.exists('/content'):\n",
        "    os.chdir('/content')\n",
        "    CODE_DIR = 'SeFaInvert'\n",
        "    if not os.path.exists(CODE_DIR):\n",
        "        !git clone https://github.com/MrLishu/GANInvert.git $CODE_DIR\n",
        "    os.chdir(f'./{CODE_DIR}')"
      ],
      "execution_count": null,
      "outputs": []
    },
    {
      "source": [
        "Download the pretrained models"
      ],
      "cell_type": "markdown",
      "metadata": {}
    },
    {
      "cell_type": "code",
      "metadata": {
        "id": "8WMMw7vWWViq"
      },
      "source": [
        "MODEL_DIR = os.path.join('models', 'pretrain')\n",
        "os.makedirs(MODEL_DIR, exist_ok=True)\n",
        "!wget https://mycuhk-my.sharepoint.com/:u:/g/personal/1155082926_link_cuhk_edu_hk/EXqix_JIEgtLl1FXI4uCkr8B5GPaiJyiLXL6cFbdcIKqEA?e=WYesel\\&download\\=1 -O $MODEL_DIR/styleganinv_ffhq256_encoder.pth  --quiet\n",
        "!wget https://mycuhk-my.sharepoint.com/:u:/g/personal/1155082926_link_cuhk_edu_hk/EbuzMQ3ZLl1AqvKJzeeBq7IBoQD-C1LfMIC8USlmOMPt3Q?e=CMXn8W\\&download\\=1 -O $MODEL_DIR/styleganinv_ffhq256_generator.pth  --quiet\n",
        "!wget https://mycuhk-my.sharepoint.com/:u:/g/personal/1155082926_link_cuhk_edu_hk/EQJUz9DInbxEnp0aomkGGzAB5b3ZZbtsOA-TXct9E4ONqA?e=smtO0T\\&download\\=1 -O $MODEL_DIR/vgg16.pth  --quiet"
      ],
      "execution_count": null,
      "outputs": []
    },
    {
      "cell_type": "markdown",
      "metadata": {
        "id": "aMy9WPO5WVir"
      },
      "source": [
        "## Import StyleGAN and GAN Inverter"
      ]
    },
    {
      "cell_type": "code",
      "metadata": {
        "id": "XY0AZ2qAWVir",
        "outputId": "80b4d6db-9c13-4039-a857-e5cc4b1e44e8",
        "colab": {
          "base_uri": "https://localhost:8080/"
        }
      },
      "source": [
        "import numpy as np\n",
        "import matplotlib.pyplot as plt\n",
        "from utils.inverter import StyleGANInverter\n",
        "from models.face_landmark_detector import FaceLandmarkDetector\n",
        "\n",
        "inverter = StyleGANInverter('styleganinv_ffhq256', learning_rate=0.01, iteration=100,\n",
        "                            reconstruction_loss_weight=1.0, perceptual_loss_weight=5e-5, regularization_loss_weight=0)\n",
        "generator = inverter.G\n",
        "resolution = inverter.G.resolution\n",
        "\n",
        "def align(image_name):\n",
        "    face_landmark_detector = FaceLandmarkDetector(resolution)\n",
        "    face_infos = face_landmark_detector.detect(os.path.join('images', image_name))[0]\n",
        "    image = face_landmark_detector.align(face_infos)\n",
        "    return image"
      ],
      "execution_count": null,
      "outputs": []
    },
    {
      "source": [
        "## Load Images"
      ],
      "cell_type": "markdown",
      "metadata": {}
    },
    {
      "source": [
        "Load images and get the inverted latent code with the inverter. Source image first."
      ],
      "cell_type": "markdown",
      "metadata": {}
    },
    {
      "cell_type": "code",
      "metadata": {
        "id": "VdaYQG-1WVis",
        "outputId": "75478cf3-1656-4a93-9d5e-bccb218630eb",
        "colab": {
          "base_uri": "https://localhost:8080/"
        }
      },
      "source": [
        "source_image_name = 'emma.png'\n",
        "source_image = align(source_image_name)\n",
        "source_image_code = inverter.easy_invert(source_image, 1)[0]"
      ],
      "execution_count": null,
      "outputs": []
    },
    {
      "source": [
        "Target image, for interpolation"
      ],
      "cell_type": "markdown",
      "metadata": {}
    },
    {
      "cell_type": "code",
      "metadata": {
        "id": "DyEN8VDkWVit",
        "outputId": "d35e9389-0d09-49a8-cab2-25ca47887554",
        "colab": {
          "base_uri": "https://localhost:8080/"
        }
      },
      "source": [
        "target_image_name = '000001.png'\n",
        "target_image = align(target_image_name)\n",
        "target_image_code = inverter.easy_invert(target_image, 1)[0]"
      ],
      "execution_count": null,
      "outputs": []
    },
    {
      "source": [
        "## SeFa"
      ],
      "cell_type": "markdown",
      "metadata": {}
    },
    {
      "source": [
        "Edit the image chosen before."
      ],
      "cell_type": "markdown",
      "metadata": {}
    },
    {
      "cell_type": "code",
      "metadata": {
        "id": "KGTkRvvFWVit",
        "outputId": "62c3e23b-0f85-4433-8781-85c474b73322",
        "colab": {
          "base_uri": "https://localhost:8080/",
          "height": 200
        }
      },
      "source": [
        "layer_low = 2 #@param {type:\"slider\", min:0, max:13, step:1}\n",
        "layer_high = 5 #@param {type:\"slider\", min:0, max:13, step:1}\n",
        "semantic = 1 #@param {type:\"slider\", min:1, max:10, step:1}\n",
        "\n",
        "layers = list(range(layer_low, layer_high + 1))\n",
        "\n",
        "weights = []\n",
        "for layer in layers:\n",
        "    weights.append(generator.net.synthesis.__getattr__(f'layer{layer}').epilogue.style_mod.dense.fc.weight.T.cpu().detach().numpy())\n",
        "weight = np.concatenate(weights, axis=1).astype(np.float32)\n",
        "weight = weight / np.linalg.norm(weight, axis=0, keepdims=True)\n",
        "eigen_values, eigen_vectors = np.linalg.eig(weight.dot(weight.T))\n",
        "boundaries = eigen_vectors.T\n",
        "boundary = boundaries[semantic - 1]\n",
        "\n",
        "sematic_up = 1.5 #@param {type:\"slider\", min:0, max:5, step:0.1}\n",
        "sematic_down = -6 #@param {type:\"slider\", min:-10, max:0, step:0.1}\n",
        "steps = 7 #@param {type:\"slider\", min:2, max:12, step:1}\n",
        "\n",
        "new_codes = source_image_code.repeat(steps, axis=0).reshape(steps, generator.net.num_layers, -1)\n",
        "new_codes[:, layers, :] += boundary.reshape(1, 1, -1) * np.linspace(sematic_down, sematic_up, steps, dtype=np.float32).reshape(-1, 1, 1)\n",
        "new_images = generator.easy_synthesize(new_codes, latent_space_type='wp')['image']\n",
        "\n",
        "plt.figure(figsize=(19.2, 10.8))\n",
        "plt.axis(\"off\")\n",
        "plt.title(f\"Images on {layers}\")\n",
        "plt.imshow(np.concatenate(new_images, axis=1))\n",
        "plt.show()"
      ],
      "execution_count": null,
      "outputs": []
    },
    {
      "source": [
        "## Interpolation"
      ],
      "cell_type": "markdown",
      "metadata": {}
    },
    {
      "cell_type": "code",
      "metadata": {
        "id": "0v4IoCqxWViu",
        "outputId": "15c578d0-8ba9-44b7-971c-aa6e4f5f7fe4",
        "colab": {
          "base_uri": "https://localhost:8080/",
          "height": 200
        }
      },
      "source": [
        "step = 7 #@param {type:\"slider\", min:2, max:12, step:1}\n",
        "\n",
        "linspace = np.linspace(0, 1, step).reshape(-1, 1, 1).astype(np.float32)\n",
        "inter_codes = (1 - linspace) * source_image_code + linspace * target_image_code\n",
        "inter_images = generator.easy_synthesize(inter_codes, latent_space_type='wp')['image']\n",
        "\n",
        "plt.figure(figsize=(19.2, 10.8))\n",
        "plt.axis(\"off\")\n",
        "plt.title(f\"Interpolated images between {source_image_name.split('.')[0]} and {target_image_name.split('.')[0]}\")\n",
        "plt.imshow(np.concatenate(inter_images, axis=1))\n",
        "plt.show()"
      ],
      "execution_count": null,
      "outputs": []
    },
    {
      "source": [
        "## Generate Video"
      ],
      "cell_type": "markdown",
      "metadata": {}
    },
    {
      "source": [
        "This part of code makes the images into a video. The videos are saved under the folder \"videos\"."
      ],
      "cell_type": "markdown",
      "metadata": {}
    },
    {
      "cell_type": "code",
      "metadata": {
        "id": "QHIeEQdFWViv",
        "outputId": "b897cb0a-5565-4ef1-8819-a4e04d58deb4",
        "colab": {
          "base_uri": "https://localhost:8080/"
        }
      },
      "source": [
        "import cv2 as cv\n",
        "\n",
        "def addManipulateImages(writer, layers, sematic, sematic_limits, duration=4):\n",
        "  weights = []\n",
        "  for layer in layers:\n",
        "    weights.append(generator.net.synthesis.__getattr__(f'layer{layer}').epilogue.style_mod.dense.fc.weight.T.cpu().detach().numpy())\n",
        "  weight = np.concatenate(weights, axis=1).astype(np.float32)\n",
        "  weight = weight / np.linalg.norm(weight, axis=0, keepdims=True)\n",
        "  eigen_values, eigen_vectors = np.linalg.eig(weight.dot(weight.T))\n",
        "  boundaries = eigen_vectors.T\n",
        "  boundary = boundaries[semantic]\n",
        "\n",
        "  steps = int(duration / 2 * 24)\n",
        "  linspace = np.r_[np.linspace(0, sematic_limits, steps, dtype=np.float32).reshape(-1, 1, 1),\n",
        "             np.linspace(sematic_limits, 0, steps, dtype=np.float32).reshape(-1, 1, 1)]\n",
        "\n",
        "  new_codes = source_image_code.repeat(steps * 2, axis=0).reshape(steps * 2, generator.net.num_layers, -1)\n",
        "  new_codes[:, layers, :] += boundary.reshape(1, 1, -1) * linspace\n",
        "  new_images = generator.easy_synthesize(new_codes, latent_space_type='wp')['image']\n",
        "\n",
        "  for i in range(steps * 2):\n",
        "    b, g, r = new_images[i].transpose(2, 0, 1)\n",
        "    image = np.array([r, g, b]).transpose(1, 2, 0)\n",
        "    writer.write(image)\n",
        "\n",
        "def addInterpolateImages(writer, duration=4):\n",
        "  steps = int(duration / 2 * 24)\n",
        "\n",
        "  linspace = np.r_[np.linspace(0, 1, steps, dtype=np.float32).reshape(-1, 1, 1),\n",
        "             np.linspace(1, 0, steps, dtype=np.float32).reshape(-1, 1, 1)]\n",
        "  inter_codes = (1 - linspace) * source_image_code + linspace * target_image_code\n",
        "  inter_images = generator.easy_synthesize(inter_codes, latent_space_type='wp')['image']\n",
        "\n",
        "  for i in range(steps * 2):\n",
        "    b, g, r = inter_images[i].transpose(2, 0, 1)\n",
        "    image = np.array([r, g, b]).transpose(1, 2, 0)\n",
        "    writer.write(image)\n",
        "\n",
        "duration = 2\n",
        "videowriter = cv.VideoWriter(os.path.join('videos', f'{source_image_name.split(\".\")[0]}.mp4'), cv.VideoWriter_fourcc(*'XVID'), 24, (resolution, resolution))\n",
        "print(videowriter.isOpened())\n",
        "addManipulateImages(videowriter, [0, 1, 2, 3, 4, 5, 6, 7, 8, 9, 10, 11, 12, 13], sematic=1, sematic_limits=2, duration=duration)\n",
        "addManipulateImages(videowriter, [0, 1, 2, 3, 4, 5, 6, 7, 8, 9, 10, 11, 12, 13], sematic=1, sematic_limits=-4, duration=duration)\n",
        "addManipulateImages(videowriter, [2, 3, 4], sematic=1, sematic_limits=4, duration=duration)\n",
        "addManipulateImages(videowriter, [2, 3, 4], sematic=1, sematic_limits=-4, duration=duration)\n",
        "addInterpolateImages(videowriter, duration=duration)\n",
        "videowriter.release()"
      ],
      "execution_count": null,
      "outputs": []
    }
  ]
}
